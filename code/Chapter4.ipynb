{
 "cells": [
  {
   "cell_type": "markdown",
   "metadata": {},
   "source": [
    "## Типы данных и конструирование признаков"
   ]
  },
  {
   "cell_type": "markdown",
   "metadata": {},
   "source": [
    "На данный момент мы проанализируем данные adalt.data, для выявления признаков и подсчётов разных статистик. К примеру: какая зп? Кто больше зарабатывает от определенной суммы денег, Имеет ли работник образование и тд."
   ]
  },
  {
   "cell_type": "code",
   "execution_count": 66,
   "metadata": {},
   "outputs": [],
   "source": [
    "import pandas as pd\n",
    "from IPython.display import display\n",
    "import numpy as np\n",
    "import mglearn\n",
    "import matplotlib.pyplot as plt\n",
    "\n",
    "#import scikit-learn library extensions\n",
    "from sklearn.linear_model import LogisticRegression, LinearRegression\n",
    "from sklearn.model_selection import train_test_split\n",
    "from sklearn.tree import DecisionTreeRegressor\n",
    "from sklearn.preprocessing import OneHotEncoder"
   ]
  },
  {
   "cell_type": "markdown",
   "metadata": {},
   "source": [
    "<script src=\"https://gist.github.com/roachhd/1f029bd4b50b8a524f3c.js\"></script>"
   ]
  },
  {
   "cell_type": "code",
   "execution_count": 2,
   "metadata": {},
   "outputs": [
    {
     "data": {
      "text/html": [
       "<div>\n",
       "<style scoped>\n",
       "    .dataframe tbody tr th:only-of-type {\n",
       "        vertical-align: middle;\n",
       "    }\n",
       "\n",
       "    .dataframe tbody tr th {\n",
       "        vertical-align: top;\n",
       "    }\n",
       "\n",
       "    .dataframe thead th {\n",
       "        text-align: right;\n",
       "    }\n",
       "</style>\n",
       "<table border=\"1\" class=\"dataframe\">\n",
       "  <thead>\n",
       "    <tr style=\"text-align: right;\">\n",
       "      <th></th>\n",
       "      <th>age</th>\n",
       "      <th>workclass</th>\n",
       "      <th>education</th>\n",
       "      <th>gender</th>\n",
       "      <th>hours-per-week</th>\n",
       "      <th>occupation</th>\n",
       "      <th>income</th>\n",
       "    </tr>\n",
       "  </thead>\n",
       "  <tbody>\n",
       "    <tr>\n",
       "      <th>0</th>\n",
       "      <td>39</td>\n",
       "      <td>State-gov</td>\n",
       "      <td>Bachelors</td>\n",
       "      <td>Male</td>\n",
       "      <td>40</td>\n",
       "      <td>Adm-clerical</td>\n",
       "      <td>&lt;=50K</td>\n",
       "    </tr>\n",
       "    <tr>\n",
       "      <th>1</th>\n",
       "      <td>50</td>\n",
       "      <td>Self-emp-not-inc</td>\n",
       "      <td>Bachelors</td>\n",
       "      <td>Male</td>\n",
       "      <td>13</td>\n",
       "      <td>Exec-managerial</td>\n",
       "      <td>&lt;=50K</td>\n",
       "    </tr>\n",
       "    <tr>\n",
       "      <th>2</th>\n",
       "      <td>38</td>\n",
       "      <td>Private</td>\n",
       "      <td>HS-grad</td>\n",
       "      <td>Male</td>\n",
       "      <td>40</td>\n",
       "      <td>Handlers-cleaners</td>\n",
       "      <td>&lt;=50K</td>\n",
       "    </tr>\n",
       "    <tr>\n",
       "      <th>3</th>\n",
       "      <td>53</td>\n",
       "      <td>Private</td>\n",
       "      <td>11th</td>\n",
       "      <td>Male</td>\n",
       "      <td>40</td>\n",
       "      <td>Handlers-cleaners</td>\n",
       "      <td>&lt;=50K</td>\n",
       "    </tr>\n",
       "    <tr>\n",
       "      <th>4</th>\n",
       "      <td>28</td>\n",
       "      <td>Private</td>\n",
       "      <td>Bachelors</td>\n",
       "      <td>Female</td>\n",
       "      <td>40</td>\n",
       "      <td>Prof-specialty</td>\n",
       "      <td>&lt;=50K</td>\n",
       "    </tr>\n",
       "  </tbody>\n",
       "</table>\n",
       "</div>"
      ],
      "text/plain": [
       "   age          workclass   education   gender  hours-per-week  \\\n",
       "0   39          State-gov   Bachelors     Male              40   \n",
       "1   50   Self-emp-not-inc   Bachelors     Male              13   \n",
       "2   38            Private     HS-grad     Male              40   \n",
       "3   53            Private        11th     Male              40   \n",
       "4   28            Private   Bachelors   Female              40   \n",
       "\n",
       "           occupation  income  \n",
       "0        Adm-clerical   <=50K  \n",
       "1     Exec-managerial   <=50K  \n",
       "2   Handlers-cleaners   <=50K  \n",
       "3   Handlers-cleaners   <=50K  \n",
       "4      Prof-specialty   <=50K  "
      ]
     },
     "metadata": {},
     "output_type": "display_data"
    }
   ],
   "source": [
    "# файл не содержит заголовков столбцов, поэтому мы передаем header=None\n",
    "# и записываем имена столбцов прямо в \"names\"\n",
    "data = pd.read_csv(\"G:/Pproject/ml-intro/data/adult.data\", header=None, index_col=False, \n",
    "                  names=['age', 'workclass', 'fnlwgt', 'education', 'education-num',\n",
    "                         'mariral-status', 'occupation', 'relationship', 'race',\n",
    "                         'gender', 'capital-gain', 'capital-loss', 'hours-per-week',\n",
    "                         'native-country', 'income'])\n",
    "# в целях упрощения мы выберим лишь некоторые столбцы\n",
    "data = data[['age', 'workclass', 'education', 'gender', 'hours-per-week', 'occupation', 'income']]\n",
    "display(data.head())"
   ]
  },
  {
   "cell_type": "code",
   "execution_count": 3,
   "metadata": {},
   "outputs": [
    {
     "name": "stdout",
     "output_type": "stream",
     "text": [
      " Male      21790\n",
      " Female    10771\n",
      "Name: gender, dtype: int64\n"
     ]
    }
   ],
   "source": [
    "# проверяем правильность заполнения пола, с помощью количества.\n",
    "print(data.gender.value_counts())"
   ]
  },
  {
   "cell_type": "markdown",
   "metadata": {},
   "source": [
    "В библиотеки <span style=\"color:#42c5f4\">pandas</span> имеется очень просто способ кодирвание данных с помощью функции <span style=\"color:#42c5f4\">get_dummies()</span>"
   ]
  },
  {
   "cell_type": "code",
   "execution_count": 4,
   "metadata": {},
   "outputs": [
    {
     "name": "stdout",
     "output_type": "stream",
     "text": [
      "Исходные признаки: \n",
      " ['age', 'workclass', 'education', 'gender', 'hours-per-week', 'occupation', 'income'] \n",
      "\n",
      "Признаки после get_dummies: \n",
      " ['age', 'hours-per-week', 'workclass_ ?', 'workclass_ Federal-gov', 'workclass_ Local-gov', 'workclass_ Never-worked', 'workclass_ Private', 'workclass_ Self-emp-inc', 'workclass_ Self-emp-not-inc', 'workclass_ State-gov', 'workclass_ Without-pay', 'education_ 10th', 'education_ 11th', 'education_ 12th', 'education_ 1st-4th', 'education_ 5th-6th', 'education_ 7th-8th', 'education_ 9th', 'education_ Assoc-acdm', 'education_ Assoc-voc', 'education_ Bachelors', 'education_ Doctorate', 'education_ HS-grad', 'education_ Masters', 'education_ Preschool', 'education_ Prof-school', 'education_ Some-college', 'gender_ Female', 'gender_ Male', 'occupation_ ?', 'occupation_ Adm-clerical', 'occupation_ Armed-Forces', 'occupation_ Craft-repair', 'occupation_ Exec-managerial', 'occupation_ Farming-fishing', 'occupation_ Handlers-cleaners', 'occupation_ Machine-op-inspct', 'occupation_ Other-service', 'occupation_ Priv-house-serv', 'occupation_ Prof-specialty', 'occupation_ Protective-serv', 'occupation_ Sales', 'occupation_ Tech-support', 'occupation_ Transport-moving', 'income_ <=50K', 'income_ >50K']\n"
     ]
    }
   ],
   "source": [
    "print(\"Исходные признаки: \\n\", list(data.columns), \"\\n\")\n",
    "data_dummies = pd.get_dummies(data)\n",
    "print(\"Признаки после get_dummies: \\n\", list(data_dummies.columns))"
   ]
  },
  {
   "cell_type": "code",
   "execution_count": 5,
   "metadata": {},
   "outputs": [
    {
     "data": {
      "text/html": [
       "<div>\n",
       "<style scoped>\n",
       "    .dataframe tbody tr th:only-of-type {\n",
       "        vertical-align: middle;\n",
       "    }\n",
       "\n",
       "    .dataframe tbody tr th {\n",
       "        vertical-align: top;\n",
       "    }\n",
       "\n",
       "    .dataframe thead th {\n",
       "        text-align: right;\n",
       "    }\n",
       "</style>\n",
       "<table border=\"1\" class=\"dataframe\">\n",
       "  <thead>\n",
       "    <tr style=\"text-align: right;\">\n",
       "      <th></th>\n",
       "      <th>age</th>\n",
       "      <th>hours-per-week</th>\n",
       "      <th>workclass_ ?</th>\n",
       "      <th>workclass_ Federal-gov</th>\n",
       "      <th>workclass_ Local-gov</th>\n",
       "      <th>workclass_ Never-worked</th>\n",
       "      <th>workclass_ Private</th>\n",
       "      <th>workclass_ Self-emp-inc</th>\n",
       "      <th>workclass_ Self-emp-not-inc</th>\n",
       "      <th>workclass_ State-gov</th>\n",
       "      <th>...</th>\n",
       "      <th>occupation_ Machine-op-inspct</th>\n",
       "      <th>occupation_ Other-service</th>\n",
       "      <th>occupation_ Priv-house-serv</th>\n",
       "      <th>occupation_ Prof-specialty</th>\n",
       "      <th>occupation_ Protective-serv</th>\n",
       "      <th>occupation_ Sales</th>\n",
       "      <th>occupation_ Tech-support</th>\n",
       "      <th>occupation_ Transport-moving</th>\n",
       "      <th>income_ &lt;=50K</th>\n",
       "      <th>income_ &gt;50K</th>\n",
       "    </tr>\n",
       "  </thead>\n",
       "  <tbody>\n",
       "    <tr>\n",
       "      <th>0</th>\n",
       "      <td>39</td>\n",
       "      <td>40</td>\n",
       "      <td>0</td>\n",
       "      <td>0</td>\n",
       "      <td>0</td>\n",
       "      <td>0</td>\n",
       "      <td>0</td>\n",
       "      <td>0</td>\n",
       "      <td>0</td>\n",
       "      <td>1</td>\n",
       "      <td>...</td>\n",
       "      <td>0</td>\n",
       "      <td>0</td>\n",
       "      <td>0</td>\n",
       "      <td>0</td>\n",
       "      <td>0</td>\n",
       "      <td>0</td>\n",
       "      <td>0</td>\n",
       "      <td>0</td>\n",
       "      <td>1</td>\n",
       "      <td>0</td>\n",
       "    </tr>\n",
       "    <tr>\n",
       "      <th>1</th>\n",
       "      <td>50</td>\n",
       "      <td>13</td>\n",
       "      <td>0</td>\n",
       "      <td>0</td>\n",
       "      <td>0</td>\n",
       "      <td>0</td>\n",
       "      <td>0</td>\n",
       "      <td>0</td>\n",
       "      <td>1</td>\n",
       "      <td>0</td>\n",
       "      <td>...</td>\n",
       "      <td>0</td>\n",
       "      <td>0</td>\n",
       "      <td>0</td>\n",
       "      <td>0</td>\n",
       "      <td>0</td>\n",
       "      <td>0</td>\n",
       "      <td>0</td>\n",
       "      <td>0</td>\n",
       "      <td>1</td>\n",
       "      <td>0</td>\n",
       "    </tr>\n",
       "    <tr>\n",
       "      <th>2</th>\n",
       "      <td>38</td>\n",
       "      <td>40</td>\n",
       "      <td>0</td>\n",
       "      <td>0</td>\n",
       "      <td>0</td>\n",
       "      <td>0</td>\n",
       "      <td>1</td>\n",
       "      <td>0</td>\n",
       "      <td>0</td>\n",
       "      <td>0</td>\n",
       "      <td>...</td>\n",
       "      <td>0</td>\n",
       "      <td>0</td>\n",
       "      <td>0</td>\n",
       "      <td>0</td>\n",
       "      <td>0</td>\n",
       "      <td>0</td>\n",
       "      <td>0</td>\n",
       "      <td>0</td>\n",
       "      <td>1</td>\n",
       "      <td>0</td>\n",
       "    </tr>\n",
       "    <tr>\n",
       "      <th>3</th>\n",
       "      <td>53</td>\n",
       "      <td>40</td>\n",
       "      <td>0</td>\n",
       "      <td>0</td>\n",
       "      <td>0</td>\n",
       "      <td>0</td>\n",
       "      <td>1</td>\n",
       "      <td>0</td>\n",
       "      <td>0</td>\n",
       "      <td>0</td>\n",
       "      <td>...</td>\n",
       "      <td>0</td>\n",
       "      <td>0</td>\n",
       "      <td>0</td>\n",
       "      <td>0</td>\n",
       "      <td>0</td>\n",
       "      <td>0</td>\n",
       "      <td>0</td>\n",
       "      <td>0</td>\n",
       "      <td>1</td>\n",
       "      <td>0</td>\n",
       "    </tr>\n",
       "    <tr>\n",
       "      <th>4</th>\n",
       "      <td>28</td>\n",
       "      <td>40</td>\n",
       "      <td>0</td>\n",
       "      <td>0</td>\n",
       "      <td>0</td>\n",
       "      <td>0</td>\n",
       "      <td>1</td>\n",
       "      <td>0</td>\n",
       "      <td>0</td>\n",
       "      <td>0</td>\n",
       "      <td>...</td>\n",
       "      <td>0</td>\n",
       "      <td>0</td>\n",
       "      <td>0</td>\n",
       "      <td>1</td>\n",
       "      <td>0</td>\n",
       "      <td>0</td>\n",
       "      <td>0</td>\n",
       "      <td>0</td>\n",
       "      <td>1</td>\n",
       "      <td>0</td>\n",
       "    </tr>\n",
       "  </tbody>\n",
       "</table>\n",
       "<p>5 rows × 46 columns</p>\n",
       "</div>"
      ],
      "text/plain": [
       "   age  hours-per-week  workclass_ ?  workclass_ Federal-gov  \\\n",
       "0   39              40             0                       0   \n",
       "1   50              13             0                       0   \n",
       "2   38              40             0                       0   \n",
       "3   53              40             0                       0   \n",
       "4   28              40             0                       0   \n",
       "\n",
       "   workclass_ Local-gov  workclass_ Never-worked  workclass_ Private  \\\n",
       "0                     0                        0                   0   \n",
       "1                     0                        0                   0   \n",
       "2                     0                        0                   1   \n",
       "3                     0                        0                   1   \n",
       "4                     0                        0                   1   \n",
       "\n",
       "   workclass_ Self-emp-inc  workclass_ Self-emp-not-inc  workclass_ State-gov  \\\n",
       "0                        0                            0                     1   \n",
       "1                        0                            1                     0   \n",
       "2                        0                            0                     0   \n",
       "3                        0                            0                     0   \n",
       "4                        0                            0                     0   \n",
       "\n",
       "   ...  occupation_ Machine-op-inspct  occupation_ Other-service  \\\n",
       "0  ...                              0                          0   \n",
       "1  ...                              0                          0   \n",
       "2  ...                              0                          0   \n",
       "3  ...                              0                          0   \n",
       "4  ...                              0                          0   \n",
       "\n",
       "   occupation_ Priv-house-serv  occupation_ Prof-specialty  \\\n",
       "0                            0                           0   \n",
       "1                            0                           0   \n",
       "2                            0                           0   \n",
       "3                            0                           0   \n",
       "4                            0                           1   \n",
       "\n",
       "   occupation_ Protective-serv  occupation_ Sales  occupation_ Tech-support  \\\n",
       "0                            0                  0                         0   \n",
       "1                            0                  0                         0   \n",
       "2                            0                  0                         0   \n",
       "3                            0                  0                         0   \n",
       "4                            0                  0                         0   \n",
       "\n",
       "   occupation_ Transport-moving  income_ <=50K  income_ >50K  \n",
       "0                             0              1             0  \n",
       "1                             0              1             0  \n",
       "2                             0              1             0  \n",
       "3                             0              1             0  \n",
       "4                             0              1             0  \n",
       "\n",
       "[5 rows x 46 columns]"
      ]
     },
     "execution_count": 5,
     "metadata": {},
     "output_type": "execute_result"
    }
   ],
   "source": [
    "data_dummies.head()"
   ]
  },
  {
   "cell_type": "code",
   "execution_count": 18,
   "metadata": {},
   "outputs": [
    {
     "name": "stdout",
     "output_type": "stream",
     "text": [
      "форма массива X: (32561, 44) форма массива y: (32561,)\n"
     ]
    }
   ],
   "source": [
    "# берем только те столбцы, которые содержат признаки,\n",
    "# т.е. все столбцы, начиная с \"age\" и заканчивая \"occupation_ Transport-moving\"\n",
    "# этот диапазон содержит все признаки, кроме целевой переменной\n",
    "features = data_dummies.loc[:, 'age':'occupation_ Transport-moving']\n",
    "# извлекаем массивы numpy\n",
    "X = features.values\n",
    "y = data_dummies['income_ >50K'].values\n",
    "\n",
    "print(\"форма массива X: {} форма массива y: {}\".format(X.shape, y.shape))"
   ]
  },
  {
   "cell_type": "markdown",
   "metadata": {},
   "source": [
    "Теперь данные представлены в том формате, который компоненты библиотеки scikit-learn умеют обрабатывать, а значит построение модели можно продложить в обычном режиме"
   ]
  },
  {
   "cell_type": "code",
   "execution_count": 21,
   "metadata": {},
   "outputs": [
    {
     "name": "stdout",
     "output_type": "stream",
     "text": [
      "Правильность на тестовом наборе: 0.81\n"
     ]
    }
   ],
   "source": [
    "X_train, X_test, y_train, y_test = train_test_split(X, y, random_state=0)\n",
    "logreg = LogisticRegression(solver='lbfgs', max_iter=5000)\n",
    "logreg.fit(X_train, y_train)\n",
    "print(\"Правильность на тестовом наборе: {:.2f}\".format(logreg.score(X_test, y_test)))"
   ]
  },
  {
   "cell_type": "markdown",
   "metadata": {},
   "source": [
    "Функция get_dummies в pandas обрабатывает все числа как непрерывные значения и не будет создавать дамми-переменные для них. Описание проблемы ниже."
   ]
  },
  {
   "cell_type": "code",
   "execution_count": 22,
   "metadata": {},
   "outputs": [
    {
     "data": {
      "text/html": [
       "<div>\n",
       "<style scoped>\n",
       "    .dataframe tbody tr th:only-of-type {\n",
       "        vertical-align: middle;\n",
       "    }\n",
       "\n",
       "    .dataframe tbody tr th {\n",
       "        vertical-align: top;\n",
       "    }\n",
       "\n",
       "    .dataframe thead th {\n",
       "        text-align: right;\n",
       "    }\n",
       "</style>\n",
       "<table border=\"1\" class=\"dataframe\">\n",
       "  <thead>\n",
       "    <tr style=\"text-align: right;\">\n",
       "      <th></th>\n",
       "      <th>Целочисленный признак</th>\n",
       "      <th>Категориальный признак</th>\n",
       "    </tr>\n",
       "  </thead>\n",
       "  <tbody>\n",
       "    <tr>\n",
       "      <th>0</th>\n",
       "      <td>0</td>\n",
       "      <td>socks</td>\n",
       "    </tr>\n",
       "    <tr>\n",
       "      <th>1</th>\n",
       "      <td>1</td>\n",
       "      <td>fox</td>\n",
       "    </tr>\n",
       "    <tr>\n",
       "      <th>2</th>\n",
       "      <td>2</td>\n",
       "      <td>socks</td>\n",
       "    </tr>\n",
       "    <tr>\n",
       "      <th>3</th>\n",
       "      <td>1</td>\n",
       "      <td>box</td>\n",
       "    </tr>\n",
       "  </tbody>\n",
       "</table>\n",
       "</div>"
      ],
      "text/plain": [
       "   Целочисленный признак Категориальный признак\n",
       "0                      0                  socks\n",
       "1                      1                    fox\n",
       "2                      2                  socks\n",
       "3                      1                    box"
      ]
     },
     "metadata": {},
     "output_type": "display_data"
    }
   ],
   "source": [
    "# создаём дата-фрейм с признаком, который принимает \n",
    "# целочисленные значения, и категориальным признаком, значения которого являются строками\n",
    "demo_df = pd.DataFrame({'Целочисленный признак': [0,1,2,1],\n",
    "                        'Категориальный признак': ['socks', 'fox', 'socks', 'box']})\n",
    "display(demo_df)"
   ]
  },
  {
   "cell_type": "code",
   "execution_count": 23,
   "metadata": {},
   "outputs": [
    {
     "data": {
      "text/html": [
       "<div>\n",
       "<style scoped>\n",
       "    .dataframe tbody tr th:only-of-type {\n",
       "        vertical-align: middle;\n",
       "    }\n",
       "\n",
       "    .dataframe tbody tr th {\n",
       "        vertical-align: top;\n",
       "    }\n",
       "\n",
       "    .dataframe thead th {\n",
       "        text-align: right;\n",
       "    }\n",
       "</style>\n",
       "<table border=\"1\" class=\"dataframe\">\n",
       "  <thead>\n",
       "    <tr style=\"text-align: right;\">\n",
       "      <th></th>\n",
       "      <th>Целочисленный признак</th>\n",
       "      <th>Категориальный признак_box</th>\n",
       "      <th>Категориальный признак_fox</th>\n",
       "      <th>Категориальный признак_socks</th>\n",
       "    </tr>\n",
       "  </thead>\n",
       "  <tbody>\n",
       "    <tr>\n",
       "      <th>0</th>\n",
       "      <td>0</td>\n",
       "      <td>0</td>\n",
       "      <td>0</td>\n",
       "      <td>1</td>\n",
       "    </tr>\n",
       "    <tr>\n",
       "      <th>1</th>\n",
       "      <td>1</td>\n",
       "      <td>0</td>\n",
       "      <td>1</td>\n",
       "      <td>0</td>\n",
       "    </tr>\n",
       "    <tr>\n",
       "      <th>2</th>\n",
       "      <td>2</td>\n",
       "      <td>0</td>\n",
       "      <td>0</td>\n",
       "      <td>1</td>\n",
       "    </tr>\n",
       "    <tr>\n",
       "      <th>3</th>\n",
       "      <td>1</td>\n",
       "      <td>1</td>\n",
       "      <td>0</td>\n",
       "      <td>0</td>\n",
       "    </tr>\n",
       "  </tbody>\n",
       "</table>\n",
       "</div>"
      ],
      "text/plain": [
       "   Целочисленный признак  Категориальный признак_box  \\\n",
       "0                      0                           0   \n",
       "1                      1                           0   \n",
       "2                      2                           0   \n",
       "3                      1                           1   \n",
       "\n",
       "   Категориальный признак_fox  Категориальный признак_socks  \n",
       "0                           0                             1  \n",
       "1                           1                             0  \n",
       "2                           0                             1  \n",
       "3                           0                             0  "
      ]
     },
     "execution_count": 23,
     "metadata": {},
     "output_type": "execute_result"
    }
   ],
   "source": [
    "# Функция get_dummies закодирует лишь строковые признак,\n",
    "# тогда как целочисленный признак оставит без изменений\n",
    "pd.get_dummies(demo_df)"
   ]
  },
  {
   "cell_type": "markdown",
   "metadata": {},
   "source": [
    "Если создать дамми-переменные и для столбца *Целочисленный признак*, то можно явно указать столбцы, которые нужно закодировать, с помощью параметра columns. И тогда оба признака будут обработаны как категориальные переменные."
   ]
  },
  {
   "cell_type": "code",
   "execution_count": 24,
   "metadata": {},
   "outputs": [
    {
     "data": {
      "text/html": [
       "<div>\n",
       "<style scoped>\n",
       "    .dataframe tbody tr th:only-of-type {\n",
       "        vertical-align: middle;\n",
       "    }\n",
       "\n",
       "    .dataframe tbody tr th {\n",
       "        vertical-align: top;\n",
       "    }\n",
       "\n",
       "    .dataframe thead th {\n",
       "        text-align: right;\n",
       "    }\n",
       "</style>\n",
       "<table border=\"1\" class=\"dataframe\">\n",
       "  <thead>\n",
       "    <tr style=\"text-align: right;\">\n",
       "      <th></th>\n",
       "      <th>Целочисленный признак_0</th>\n",
       "      <th>Целочисленный признак_1</th>\n",
       "      <th>Целочисленный признак_2</th>\n",
       "      <th>Категориальный признак_box</th>\n",
       "      <th>Категориальный признак_fox</th>\n",
       "      <th>Категориальный признак_socks</th>\n",
       "    </tr>\n",
       "  </thead>\n",
       "  <tbody>\n",
       "    <tr>\n",
       "      <th>0</th>\n",
       "      <td>1</td>\n",
       "      <td>0</td>\n",
       "      <td>0</td>\n",
       "      <td>0</td>\n",
       "      <td>0</td>\n",
       "      <td>1</td>\n",
       "    </tr>\n",
       "    <tr>\n",
       "      <th>1</th>\n",
       "      <td>0</td>\n",
       "      <td>1</td>\n",
       "      <td>0</td>\n",
       "      <td>0</td>\n",
       "      <td>1</td>\n",
       "      <td>0</td>\n",
       "    </tr>\n",
       "    <tr>\n",
       "      <th>2</th>\n",
       "      <td>0</td>\n",
       "      <td>0</td>\n",
       "      <td>1</td>\n",
       "      <td>0</td>\n",
       "      <td>0</td>\n",
       "      <td>1</td>\n",
       "    </tr>\n",
       "    <tr>\n",
       "      <th>3</th>\n",
       "      <td>0</td>\n",
       "      <td>1</td>\n",
       "      <td>0</td>\n",
       "      <td>1</td>\n",
       "      <td>0</td>\n",
       "      <td>0</td>\n",
       "    </tr>\n",
       "  </tbody>\n",
       "</table>\n",
       "</div>"
      ],
      "text/plain": [
       "   Целочисленный признак_0  Целочисленный признак_1  Целочисленный признак_2  \\\n",
       "0                        1                        0                        0   \n",
       "1                        0                        1                        0   \n",
       "2                        0                        0                        1   \n",
       "3                        0                        1                        0   \n",
       "\n",
       "   Категориальный признак_box  Категориальный признак_fox  \\\n",
       "0                           0                           0   \n",
       "1                           0                           1   \n",
       "2                           0                           0   \n",
       "3                           1                           0   \n",
       "\n",
       "   Категориальный признак_socks  \n",
       "0                             1  \n",
       "1                             0  \n",
       "2                             1  \n",
       "3                             0  "
      ]
     },
     "execution_count": 24,
     "metadata": {},
     "output_type": "execute_result"
    }
   ],
   "source": [
    "demo_df['Целочисленный признак'] = demo_df['Целочисленный признак'].astype(str)\n",
    "pd.get_dummies(demo_df, columns=['Целочисленный признак', 'Категориальный признак'])"
   ]
  },
  {
   "cell_type": "markdown",
   "metadata": {},
   "source": [
    "### Биннинг, дискретизация, линейные модели и деревья"
   ]
  },
  {
   "cell_type": "code",
   "execution_count": 52,
   "metadata": {},
   "outputs": [
    {
     "data": {
      "image/png": "[encoded data removed]",
      "text/plain": [
       "<Figure size 1080x576 with 1 Axes>"
      ]
     },
     "metadata": {
      "needs_background": "light"
     },
     "output_type": "display_data"
    }
   ],
   "source": [
    "X, y = mglearn.datasets.make_wave(n_samples=100)\n",
    "line = np.linspace(-3, 3, 1000, endpoint=False).reshape(-1, 1)\n",
    "\n",
    "plt.figure(figsize=(15,8))\n",
    "\n",
    "reg = DecisionTreeRegressor(min_samples_split=3).fit(X, y)\n",
    "plt.plot(line, reg.predict(line), label=\"Дерево решений\")\n",
    "\n",
    "reg = LinearRegression().fit(X, y)\n",
    "plt.plot(line, reg.predict(line), label=\"Линейная регрессия\")\n",
    "\n",
    "plt.plot(X[:, 0], y, 'o', c='k')\n",
    "plt.ylabel('Выход регрессии')\n",
    "plt.xlabel('Входной признак')\n",
    "plt.legend(loc=\"best\")\n",
    "plt.suptitle(\"Сравнение результатов модели линейной регрессии и дерева регрессии для набора данных wave\")\n",
    "plt.show()"
   ]
  },
  {
   "cell_type": "markdown",
   "metadata": {},
   "source": [
    "Для повышения прогнозной силы линейных моделей при работе с непрерывными данными является <span style=\"color: #6b42f4\">*бинниг*</span> (*bining*) характеристик, также известный как <span style=\"color: #6b42f4\">*дискретизация*</span>, который разбивает исходный признак на несколько категорий."
   ]
  },
  {
   "cell_type": "code",
   "execution_count": 53,
   "metadata": {},
   "outputs": [
    {
     "name": "stdout",
     "output_type": "stream",
     "text": [
      "Категорий : [-3.  -2.4 -1.8 -1.2 -0.6  0.   0.6  1.2  1.8  2.4  3. ]\n"
     ]
    }
   ],
   "source": [
    "# зададим 10 категорий, равномерно распределенных между значениями -3 и 3.\n",
    "bins = np.linspace(-3, 3, 11)\n",
    "print(\"Категорий : {}\".format(bins))"
   ]
  },
  {
   "cell_type": "code",
   "execution_count": 64,
   "metadata": {},
   "outputs": [
    {
     "name": "stdout",
     "output_type": "stream",
     "text": [
      "\n",
      " Точки данных:\n",
      " [[-0.75275929]\n",
      " [ 2.70428584]\n",
      " [ 1.39196365]\n",
      " [ 0.59195091]\n",
      " [-2.06388816]]\n",
      "\n",
      " Категории для точек данных: \n",
      " [[ 4]\n",
      " [10]\n",
      " [ 8]\n",
      " [ 6]\n",
      " [ 2]]\n"
     ]
    }
   ],
   "source": [
    "# записываем для каждой точки данных категорию,в которую он попадает.\n",
    "which_bin = np.digitize(X, bins=bins)\n",
    "print(\"\\n Точки данных:\\n\", X[:5])\n",
    "print(\"\\n Категории для точек данных: \\n\", which_bin[:5])"
   ]
  },
  {
   "cell_type": "code",
   "execution_count": 74,
   "metadata": {},
   "outputs": [
    {
     "name": "stdout",
     "output_type": "stream",
     "text": [
      "[[0. 0. 0. 1. 0. 0. 0. 0. 0. 0.]\n",
      " [0. 0. 0. 0. 0. 0. 0. 0. 0. 1.]\n",
      " [0. 0. 0. 0. 0. 0. 0. 1. 0. 0.]\n",
      " [0. 0. 0. 0. 0. 1. 0. 0. 0. 0.]\n",
      " [0. 1. 0. 0. 0. 0. 0. 0. 0. 0.]]\n"
     ]
    }
   ],
   "source": [
    "# выполним прямое кодирование этого дискретного признака с помощью функции OneHotEncoder\n",
    "encoder = OneHotEncoder(sparse=False, categories=\"auto\")\n",
    "# encoder.fit находит уникальные значения, имеющиеся в which_bin\n",
    "encoder.fit(which_bin)\n",
    "# transform осуществляет прямое кодирование\n",
    "X_binned = encoder.transform(which_bin)\n",
    "print(X_binned[:5])"
   ]
  },
  {
   "cell_type": "code",
   "execution_count": 92,
   "metadata": {},
   "outputs": [
    {
     "data": {
      "image/png": "[encoded data removed]",
      "text/plain": [
       "<Figure size 1080x576 with 1 Axes>"
      ]
     },
     "metadata": {
      "needs_background": "light"
     },
     "output_type": "display_data"
    }
   ],
   "source": [
    "# построим новую модель линейной регрессии и дерева решений на основе данных, \n",
    "# приобразованных с помощью прямого кодирования.\n",
    "line_binned = encoder.transform(np.digitize(line, bins=bins))\n",
    "\n",
    "plt.figure(figsize=(15,8))\n",
    "\n",
    "reg = DecisionTreeRegressor(min_samples_split=3).fit(X_binned, y)\n",
    "plt.plot(line, reg.predict(line_binned), label=\"Дерево решений после биннинга\", linewidth=4)\n",
    "\n",
    "reg = LinearRegression().fit(X_binned, y)\n",
    "plt.plot(line, reg.predict(line_binned), label=\"Линейная регрессия после биннинга\", linestyle='dashed', linewidth=4)\n",
    "\n",
    "plt.plot(X[:, 0], y, 'o', c='k')\n",
    "plt.vlines(bins, -3, 3, linewidth=1, alpha=.2)\n",
    "plt.ylabel('Выход регрессии')\n",
    "plt.xlabel('Входной признак')\n",
    "plt.legend(loc=\"best\")\n",
    "plt.suptitle(\"Сравнение результатов модели линейной регрессии и дерева регрессии после проведения биннинга\")\n",
    "plt.show()"
   ]
  },
  {
   "cell_type": "markdown",
   "metadata": {},
   "source": [
    "### Взаимодействия и полиномы"
   ]
  },
  {
   "cell_type": "code",
   "execution_count": null,
   "metadata": {},
   "outputs": [],
   "source": []
  },
  {
   "cell_type": "code",
   "execution_count": null,
   "metadata": {},
   "outputs": [],
   "source": []
  }
 ],
 "metadata": {
  "kernelspec": {
   "display_name": "Python 3",
   "language": "python",
   "name": "python3"
  },
  "language_info": {
   "codemirror_mode": {
    "name": "ipython",
    "version": 3
   },
   "file_extension": ".py",
   "mimetype": "text/x-python",
   "name": "python",
   "nbconvert_exporter": "python",
   "pygments_lexer": "ipython3",
   "version": "3.7.3"
  }
 },
 "nbformat": 4,
 "nbformat_minor": 2
}
